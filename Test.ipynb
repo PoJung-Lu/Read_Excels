{
 "cells": [
  {
   "cell_type": "code",
   "execution_count": null,
   "id": "952fc1c0-157d-4b79-85ff-6ddbb98768d4",
   "metadata": {},
   "outputs": [
    {
     "ename": "FileNotFoundError",
     "evalue": "[Errno 2] No such file or directory: '計畫經資門.xlsx'",
     "output_type": "error",
     "traceback": [
      "\u001b[31m---------------------------------------------------------------------------\u001b[39m",
      "\u001b[31mFileNotFoundError\u001b[39m                         Traceback (most recent call last)",
      "\u001b[36mCell\u001b[39m\u001b[36m \u001b[39m\u001b[32mIn[1]\u001b[39m\u001b[32m, line 10\u001b[39m\n\u001b[32m      7\u001b[39m df = pd.DataFrame()\n\u001b[32m      9\u001b[39m \u001b[38;5;66;03m# Example: Read an Excel file into a DataFrame\u001b[39;00m\n\u001b[32m---> \u001b[39m\u001b[32m10\u001b[39m data = \u001b[43mpd\u001b[49m\u001b[43m.\u001b[49m\u001b[43mread_excel\u001b[49m\u001b[43m(\u001b[49m\u001b[33;43m'\u001b[39;49m\u001b[33;43m計畫經資門.xlsx\u001b[39;49m\u001b[33;43m'\u001b[39;49m\u001b[43m)\u001b[49m\n\u001b[32m     13\u001b[39m \u001b[38;5;28;01mfor\u001b[39;00m s \u001b[38;5;129;01min\u001b[39;00m sh_list:\n\u001b[32m     14\u001b[39m     data = pd.read_excel(\u001b[33m'\u001b[39m\u001b[33m計畫經資門.xlsx\u001b[39m\u001b[33m'\u001b[39m, sheet_name=s)        \n",
      "\u001b[36mFile \u001b[39m\u001b[32m~/anaconda3/envs/work/lib/python3.13/site-packages/pandas/io/excel/_base.py:495\u001b[39m, in \u001b[36mread_excel\u001b[39m\u001b[34m(io, sheet_name, header, names, index_col, usecols, dtype, engine, converters, true_values, false_values, skiprows, nrows, na_values, keep_default_na, na_filter, verbose, parse_dates, date_parser, date_format, thousands, decimal, comment, skipfooter, storage_options, dtype_backend, engine_kwargs)\u001b[39m\n\u001b[32m    493\u001b[39m \u001b[38;5;28;01mif\u001b[39;00m \u001b[38;5;129;01mnot\u001b[39;00m \u001b[38;5;28misinstance\u001b[39m(io, ExcelFile):\n\u001b[32m    494\u001b[39m     should_close = \u001b[38;5;28;01mTrue\u001b[39;00m\n\u001b[32m--> \u001b[39m\u001b[32m495\u001b[39m     io = \u001b[43mExcelFile\u001b[49m\u001b[43m(\u001b[49m\n\u001b[32m    496\u001b[39m \u001b[43m        \u001b[49m\u001b[43mio\u001b[49m\u001b[43m,\u001b[49m\n\u001b[32m    497\u001b[39m \u001b[43m        \u001b[49m\u001b[43mstorage_options\u001b[49m\u001b[43m=\u001b[49m\u001b[43mstorage_options\u001b[49m\u001b[43m,\u001b[49m\n\u001b[32m    498\u001b[39m \u001b[43m        \u001b[49m\u001b[43mengine\u001b[49m\u001b[43m=\u001b[49m\u001b[43mengine\u001b[49m\u001b[43m,\u001b[49m\n\u001b[32m    499\u001b[39m \u001b[43m        \u001b[49m\u001b[43mengine_kwargs\u001b[49m\u001b[43m=\u001b[49m\u001b[43mengine_kwargs\u001b[49m\u001b[43m,\u001b[49m\n\u001b[32m    500\u001b[39m \u001b[43m    \u001b[49m\u001b[43m)\u001b[49m\n\u001b[32m    501\u001b[39m \u001b[38;5;28;01melif\u001b[39;00m engine \u001b[38;5;129;01mand\u001b[39;00m engine != io.engine:\n\u001b[32m    502\u001b[39m     \u001b[38;5;28;01mraise\u001b[39;00m \u001b[38;5;167;01mValueError\u001b[39;00m(\n\u001b[32m    503\u001b[39m         \u001b[33m\"\u001b[39m\u001b[33mEngine should not be specified when passing \u001b[39m\u001b[33m\"\u001b[39m\n\u001b[32m    504\u001b[39m         \u001b[33m\"\u001b[39m\u001b[33man ExcelFile - ExcelFile already has the engine set\u001b[39m\u001b[33m\"\u001b[39m\n\u001b[32m    505\u001b[39m     )\n",
      "\u001b[36mFile \u001b[39m\u001b[32m~/anaconda3/envs/work/lib/python3.13/site-packages/pandas/io/excel/_base.py:1550\u001b[39m, in \u001b[36mExcelFile.__init__\u001b[39m\u001b[34m(self, path_or_buffer, engine, storage_options, engine_kwargs)\u001b[39m\n\u001b[32m   1548\u001b[39m     ext = \u001b[33m\"\u001b[39m\u001b[33mxls\u001b[39m\u001b[33m\"\u001b[39m\n\u001b[32m   1549\u001b[39m \u001b[38;5;28;01melse\u001b[39;00m:\n\u001b[32m-> \u001b[39m\u001b[32m1550\u001b[39m     ext = \u001b[43minspect_excel_format\u001b[49m\u001b[43m(\u001b[49m\n\u001b[32m   1551\u001b[39m \u001b[43m        \u001b[49m\u001b[43mcontent_or_path\u001b[49m\u001b[43m=\u001b[49m\u001b[43mpath_or_buffer\u001b[49m\u001b[43m,\u001b[49m\u001b[43m \u001b[49m\u001b[43mstorage_options\u001b[49m\u001b[43m=\u001b[49m\u001b[43mstorage_options\u001b[49m\n\u001b[32m   1552\u001b[39m \u001b[43m    \u001b[49m\u001b[43m)\u001b[49m\n\u001b[32m   1553\u001b[39m     \u001b[38;5;28;01mif\u001b[39;00m ext \u001b[38;5;129;01mis\u001b[39;00m \u001b[38;5;28;01mNone\u001b[39;00m:\n\u001b[32m   1554\u001b[39m         \u001b[38;5;28;01mraise\u001b[39;00m \u001b[38;5;167;01mValueError\u001b[39;00m(\n\u001b[32m   1555\u001b[39m             \u001b[33m\"\u001b[39m\u001b[33mExcel file format cannot be determined, you must specify \u001b[39m\u001b[33m\"\u001b[39m\n\u001b[32m   1556\u001b[39m             \u001b[33m\"\u001b[39m\u001b[33man engine manually.\u001b[39m\u001b[33m\"\u001b[39m\n\u001b[32m   1557\u001b[39m         )\n",
      "\u001b[36mFile \u001b[39m\u001b[32m~/anaconda3/envs/work/lib/python3.13/site-packages/pandas/io/excel/_base.py:1402\u001b[39m, in \u001b[36minspect_excel_format\u001b[39m\u001b[34m(content_or_path, storage_options)\u001b[39m\n\u001b[32m   1399\u001b[39m \u001b[38;5;28;01mif\u001b[39;00m \u001b[38;5;28misinstance\u001b[39m(content_or_path, \u001b[38;5;28mbytes\u001b[39m):\n\u001b[32m   1400\u001b[39m     content_or_path = BytesIO(content_or_path)\n\u001b[32m-> \u001b[39m\u001b[32m1402\u001b[39m \u001b[38;5;28;01mwith\u001b[39;00m \u001b[43mget_handle\u001b[49m\u001b[43m(\u001b[49m\n\u001b[32m   1403\u001b[39m \u001b[43m    \u001b[49m\u001b[43mcontent_or_path\u001b[49m\u001b[43m,\u001b[49m\u001b[43m \u001b[49m\u001b[33;43m\"\u001b[39;49m\u001b[33;43mrb\u001b[39;49m\u001b[33;43m\"\u001b[39;49m\u001b[43m,\u001b[49m\u001b[43m \u001b[49m\u001b[43mstorage_options\u001b[49m\u001b[43m=\u001b[49m\u001b[43mstorage_options\u001b[49m\u001b[43m,\u001b[49m\u001b[43m \u001b[49m\u001b[43mis_text\u001b[49m\u001b[43m=\u001b[49m\u001b[38;5;28;43;01mFalse\u001b[39;49;00m\n\u001b[32m   1404\u001b[39m \u001b[43m\u001b[49m\u001b[43m)\u001b[49m \u001b[38;5;28;01mas\u001b[39;00m handle:\n\u001b[32m   1405\u001b[39m     stream = handle.handle\n\u001b[32m   1406\u001b[39m     stream.seek(\u001b[32m0\u001b[39m)\n",
      "\u001b[36mFile \u001b[39m\u001b[32m~/anaconda3/envs/work/lib/python3.13/site-packages/pandas/io/common.py:882\u001b[39m, in \u001b[36mget_handle\u001b[39m\u001b[34m(path_or_buf, mode, encoding, compression, memory_map, is_text, errors, storage_options)\u001b[39m\n\u001b[32m    873\u001b[39m         handle = \u001b[38;5;28mopen\u001b[39m(\n\u001b[32m    874\u001b[39m             handle,\n\u001b[32m    875\u001b[39m             ioargs.mode,\n\u001b[32m   (...)\u001b[39m\u001b[32m    878\u001b[39m             newline=\u001b[33m\"\u001b[39m\u001b[33m\"\u001b[39m,\n\u001b[32m    879\u001b[39m         )\n\u001b[32m    880\u001b[39m     \u001b[38;5;28;01melse\u001b[39;00m:\n\u001b[32m    881\u001b[39m         \u001b[38;5;66;03m# Binary mode\u001b[39;00m\n\u001b[32m--> \u001b[39m\u001b[32m882\u001b[39m         handle = \u001b[38;5;28;43mopen\u001b[39;49m\u001b[43m(\u001b[49m\u001b[43mhandle\u001b[49m\u001b[43m,\u001b[49m\u001b[43m \u001b[49m\u001b[43mioargs\u001b[49m\u001b[43m.\u001b[49m\u001b[43mmode\u001b[49m\u001b[43m)\u001b[49m\n\u001b[32m    883\u001b[39m     handles.append(handle)\n\u001b[32m    885\u001b[39m \u001b[38;5;66;03m# Convert BytesIO or file objects passed with an encoding\u001b[39;00m\n",
      "\u001b[31mFileNotFoundError\u001b[39m: [Errno 2] No such file or directory: '計畫經資門.xlsx'"
     ]
    }
   ],
   "source": [
    "import pandas as    pd\n",
    "import      warnings\n",
    "\n",
    "\n",
    "sh_list = ['115','116','117','118','特殊消防車輛','特殊裝備器材','區域聯防']\n",
    "\n",
    "df = pd.DataFrame()\n",
    "\n",
    "# Example: Read an Excel file into a DataFrame\n",
    "data = pd.read_excel('計畫經資門.xlsx')\n",
    "\n",
    "\n",
    "for s in sh_list:\n",
    "    data = pd.read_excel('計畫經資門.xlsx', sheet_name=s)        \n",
    "    warnings.simplefilter(\"ignore\") #不顯示讀檔驗證警告\n",
    "    print(f'檔案名稱：{'計畫經資門'}，工作表{s}的原始資料筆數：{len(data)}')\n",
    "    data = data.dropna(how='all') # 刪除全為空值的行\n",
    "    data = data.dropna(axis=1, how='all') # 刪除全為空值的列\n",
    "\n",
    "    df = df._append(data,ignore_index=True) # 將所有檔案中相同名稱的工作表dataframe合併\n",
    "    print(f'dataframe_{s}的總資料筆數：{len(df)}')\n",
    "    exec('{} = df.copy()'.format('df_'+s)) # 將合併好的工作表dataframe存到一個新的名稱如df_time\n",
    "\n",
    "print(df)\n",
    "\n"
   ]
  },
  {
   "cell_type": "code",
   "execution_count": null,
   "id": "e60b2a40-838e-4932-9d2b-e5d615e81634",
   "metadata": {},
   "outputs": [
    {
     "name": "stderr",
     "output_type": "stream",
     "text": [
      "UsageError: Line magic function `%` not found.\n"
     ]
    }
   ],
   "source": [
    "% conda activate work"
   ]
  },
  {
   "cell_type": "code",
   "execution_count": 11,
   "id": "d7bdc573",
   "metadata": {},
   "outputs": [
    {
     "name": "stdout",
     "output_type": "stream",
     "text": [
      "Current working directory: /mnt/c/Users/user/Desktop/Python/Jupyter\n"
     ]
    },
    {
     "ename": "ValueError",
     "evalue": "Excel file format cannot be determined, you must specify an engine manually.",
     "output_type": "error",
     "traceback": [
      "\u001b[31m---------------------------------------------------------------------------\u001b[39m",
      "\u001b[31mValueError\u001b[39m                                Traceback (most recent call last)",
      "\u001b[36mCell\u001b[39m\u001b[36m \u001b[39m\u001b[32mIn[11]\u001b[39m\u001b[32m, line 23\u001b[39m\n\u001b[32m     21\u001b[39m file_path = os.path.join(folder_path, file)\n\u001b[32m     22\u001b[39m \u001b[38;5;28;01mif\u001b[39;00m read_all_sheets: \n\u001b[32m---> \u001b[39m\u001b[32m23\u001b[39m     df = \u001b[43mpd\u001b[49m\u001b[43m.\u001b[49m\u001b[43mread_excel\u001b[49m\u001b[43m(\u001b[49m\u001b[43mfile_path\u001b[49m\u001b[43m,\u001b[49m\u001b[43msheet_name\u001b[49m\u001b[43m=\u001b[49m\u001b[38;5;28;43;01mNone\u001b[39;49;00m\u001b[43m)\u001b[49m  \u001b[38;5;66;03m# Read all sheets into a dictionary of DataFrames\u001b[39;00m\n\u001b[32m     24\u001b[39m \u001b[38;5;28;01melse\u001b[39;00m:\n\u001b[32m     25\u001b[39m     df = pd.read_excel(file_path)\n",
      "\u001b[36mFile \u001b[39m\u001b[32m~/anaconda3/envs/work/lib/python3.13/site-packages/pandas/io/excel/_base.py:495\u001b[39m, in \u001b[36mread_excel\u001b[39m\u001b[34m(io, sheet_name, header, names, index_col, usecols, dtype, engine, converters, true_values, false_values, skiprows, nrows, na_values, keep_default_na, na_filter, verbose, parse_dates, date_parser, date_format, thousands, decimal, comment, skipfooter, storage_options, dtype_backend, engine_kwargs)\u001b[39m\n\u001b[32m    493\u001b[39m \u001b[38;5;28;01mif\u001b[39;00m \u001b[38;5;129;01mnot\u001b[39;00m \u001b[38;5;28misinstance\u001b[39m(io, ExcelFile):\n\u001b[32m    494\u001b[39m     should_close = \u001b[38;5;28;01mTrue\u001b[39;00m\n\u001b[32m--> \u001b[39m\u001b[32m495\u001b[39m     io = \u001b[43mExcelFile\u001b[49m\u001b[43m(\u001b[49m\n\u001b[32m    496\u001b[39m \u001b[43m        \u001b[49m\u001b[43mio\u001b[49m\u001b[43m,\u001b[49m\n\u001b[32m    497\u001b[39m \u001b[43m        \u001b[49m\u001b[43mstorage_options\u001b[49m\u001b[43m=\u001b[49m\u001b[43mstorage_options\u001b[49m\u001b[43m,\u001b[49m\n\u001b[32m    498\u001b[39m \u001b[43m        \u001b[49m\u001b[43mengine\u001b[49m\u001b[43m=\u001b[49m\u001b[43mengine\u001b[49m\u001b[43m,\u001b[49m\n\u001b[32m    499\u001b[39m \u001b[43m        \u001b[49m\u001b[43mengine_kwargs\u001b[49m\u001b[43m=\u001b[49m\u001b[43mengine_kwargs\u001b[49m\u001b[43m,\u001b[49m\n\u001b[32m    500\u001b[39m \u001b[43m    \u001b[49m\u001b[43m)\u001b[49m\n\u001b[32m    501\u001b[39m \u001b[38;5;28;01melif\u001b[39;00m engine \u001b[38;5;129;01mand\u001b[39;00m engine != io.engine:\n\u001b[32m    502\u001b[39m     \u001b[38;5;28;01mraise\u001b[39;00m \u001b[38;5;167;01mValueError\u001b[39;00m(\n\u001b[32m    503\u001b[39m         \u001b[33m\"\u001b[39m\u001b[33mEngine should not be specified when passing \u001b[39m\u001b[33m\"\u001b[39m\n\u001b[32m    504\u001b[39m         \u001b[33m\"\u001b[39m\u001b[33man ExcelFile - ExcelFile already has the engine set\u001b[39m\u001b[33m\"\u001b[39m\n\u001b[32m    505\u001b[39m     )\n",
      "\u001b[36mFile \u001b[39m\u001b[32m~/anaconda3/envs/work/lib/python3.13/site-packages/pandas/io/excel/_base.py:1554\u001b[39m, in \u001b[36mExcelFile.__init__\u001b[39m\u001b[34m(self, path_or_buffer, engine, storage_options, engine_kwargs)\u001b[39m\n\u001b[32m   1550\u001b[39m     ext = inspect_excel_format(\n\u001b[32m   1551\u001b[39m         content_or_path=path_or_buffer, storage_options=storage_options\n\u001b[32m   1552\u001b[39m     )\n\u001b[32m   1553\u001b[39m     \u001b[38;5;28;01mif\u001b[39;00m ext \u001b[38;5;129;01mis\u001b[39;00m \u001b[38;5;28;01mNone\u001b[39;00m:\n\u001b[32m-> \u001b[39m\u001b[32m1554\u001b[39m         \u001b[38;5;28;01mraise\u001b[39;00m \u001b[38;5;167;01mValueError\u001b[39;00m(\n\u001b[32m   1555\u001b[39m             \u001b[33m\"\u001b[39m\u001b[33mExcel file format cannot be determined, you must specify \u001b[39m\u001b[33m\"\u001b[39m\n\u001b[32m   1556\u001b[39m             \u001b[33m\"\u001b[39m\u001b[33man engine manually.\u001b[39m\u001b[33m\"\u001b[39m\n\u001b[32m   1557\u001b[39m         )\n\u001b[32m   1559\u001b[39m engine = config.get_option(\u001b[33mf\u001b[39m\u001b[33m\"\u001b[39m\u001b[33mio.excel.\u001b[39m\u001b[38;5;132;01m{\u001b[39;00mext\u001b[38;5;132;01m}\u001b[39;00m\u001b[33m.reader\u001b[39m\u001b[33m\"\u001b[39m, silent=\u001b[38;5;28;01mTrue\u001b[39;00m)\n\u001b[32m   1560\u001b[39m \u001b[38;5;28;01mif\u001b[39;00m engine == \u001b[33m\"\u001b[39m\u001b[33mauto\u001b[39m\u001b[33m\"\u001b[39m:\n",
      "\u001b[31mValueError\u001b[39m: Excel file format cannot be determined, you must specify an engine manually."
     ]
    }
   ],
   "source": [
    "import os\n",
    "import pandas as pd\n",
    "\n",
    "read_all_sheets = True  # Set to True if you want to read all sheets in each Excel file\n",
    "\n",
    "\n",
    "try:\n",
    "    # This works when the code is executed as a script\n",
    "    path =  os.path.dirname(__file__)#os.getcwd()\n",
    "except NameError:\n",
    "    from pathlib import Path\n",
    "    # This works in Jupyter Notebooks\n",
    "    path = Path(globals()['_dh'][0])\n",
    "print('Current working directory:', path)\n",
    "folder_path = str(path) + '/Read_excels/Data' # Adjust the path to your folder containing Excel files\n",
    "files = os.listdir(folder_path)\n",
    "excel_files = [f for f in files if f.endswith(('.xlsx', '.xls'))]\n",
    "dfs = []\n",
    "\n",
    "for file in excel_files:\n",
    "    file_path = os.path.join(folder_path, file)\n",
    "    if read_all_sheets: \n",
    "        df = pd.read_excel(file_path,sheet_name=None)  # Read all sheets into a dictionary of DataFrames\n",
    "    else:\n",
    "        df = pd.read_excel(file_path)\n",
    "    df['SourceFile'] = file  # Optional: track source file\n",
    "    dfs.append(df)\n",
    "for i in dfs:\n",
    "    print(i.values())\n",
    "\n",
    "all_data = pd.concat(dfs, ignore_index=True)\n",
    "# print(all_data)"
   ]
  },
  {
   "cell_type": "code",
   "execution_count": 15,
   "id": "96497dfd",
   "metadata": {},
   "outputs": [
    {
     "data": {
      "text/html": [
       "<div>\n",
       "<style scoped>\n",
       "    .dataframe tbody tr th:only-of-type {\n",
       "        vertical-align: middle;\n",
       "    }\n",
       "\n",
       "    .dataframe tbody tr th {\n",
       "        vertical-align: top;\n",
       "    }\n",
       "\n",
       "    .dataframe thead th {\n",
       "        text-align: right;\n",
       "    }\n",
       "</style>\n",
       "<table border=\"1\" class=\"dataframe\">\n",
       "  <thead>\n",
       "    <tr style=\"text-align: right;\">\n",
       "      <th></th>\n",
       "      <th>qwe</th>\n",
       "      <th>kkk</th>\n",
       "    </tr>\n",
       "  </thead>\n",
       "  <tbody>\n",
       "    <tr>\n",
       "      <th>g</th>\n",
       "      <td>{'a': 1, 'b': 2, 'c': 3}</td>\n",
       "      <td>1</td>\n",
       "    </tr>\n",
       "    <tr>\n",
       "      <th>h</th>\n",
       "      <td>{'d': 4, 'e': 5, 'f': 6}</td>\n",
       "      <td>1</td>\n",
       "    </tr>\n",
       "  </tbody>\n",
       "</table>\n",
       "</div>"
      ],
      "text/plain": [
       "                        qwe  kkk\n",
       "g  {'a': 1, 'b': 2, 'c': 3}    1\n",
       "h  {'d': 4, 'e': 5, 'f': 6}    1"
      ]
     },
     "execution_count": 15,
     "metadata": {},
     "output_type": "execute_result"
    }
   ],
   "source": [
    "import pandas as pd\n",
    "\n",
    "x={'a': 1, 'b': 2, 'c': 3}\n",
    "y={'d': 4, 'e': 5, 'f': 6}\n",
    "z = {'g': x , 'h': y}\n",
    "pd.DataFrame({'qwe':z,'kkk':1})"
   ]
  },
  {
   "cell_type": "code",
   "execution_count": null,
   "id": "9690416a",
   "metadata": {},
   "outputs": [
    {
     "name": "stdout",
     "output_type": "stream",
     "text": [
      "Current working directory: /mnt/c/Users/user/Desktop/Python/Jupyter\n"
     ]
    },
    {
     "data": {
      "text/html": [
       "<div>\n",
       "<style scoped>\n",
       "    .dataframe tbody tr th:only-of-type {\n",
       "        vertical-align: middle;\n",
       "    }\n",
       "\n",
       "    .dataframe tbody tr th {\n",
       "        vertical-align: top;\n",
       "    }\n",
       "\n",
       "    .dataframe thead th {\n",
       "        text-align: right;\n",
       "    }\n",
       "</style>\n",
       "<table border=\"1\" class=\"dataframe\">\n",
       "  <thead>\n",
       "    <tr style=\"text-align: right;\">\n",
       "      <th></th>\n",
       "      <th>1.第一大隊.xlsx</th>\n",
       "      <th>2.苗栗分隊.xlsx</th>\n",
       "      <th>3.頭屋分隊.xlsx</th>\n",
       "    </tr>\n",
       "  </thead>\n",
       "  <tbody>\n",
       "    <tr>\n",
       "      <th>基本資料</th>\n",
       "      <td>一、消防機關基本資料      Unnamed: 1                U...</td>\n",
       "      <td>一、消防機關基本資料       Unnamed: 1     Unnamed: 2 ...</td>\n",
       "      <td>一、消防機關基本資料        Unnamed: 1     Unnamed: 2...</td>\n",
       "    </tr>\n",
       "    <tr>\n",
       "      <th>證照調查</th>\n",
       "      <td>...</td>\n",
       "      <td>...</td>\n",
       "      <td>...</td>\n",
       "    </tr>\n",
       "    <tr>\n",
       "      <th>裝備器材調查</th>\n",
       "      <td>項次     車輛名稱         Unnamed: 2   數量  Unn...</td>\n",
       "      <td>項次     車輛名稱         Unnamed: 2    數量  Un...</td>\n",
       "      <td>項次     車輛名稱         Unnamed: 2   數量  Unn...</td>\n",
       "    </tr>\n",
       "  </tbody>\n",
       "</table>\n",
       "</div>"
      ],
      "text/plain": [
       "                                              1.第一大隊.xlsx  \\\n",
       "基本資料       一、消防機關基本資料      Unnamed: 1                U...   \n",
       "證照調查                                                  ...   \n",
       "裝備器材調查        項次     車輛名稱         Unnamed: 2   數量  Unn...   \n",
       "\n",
       "                                              2.苗栗分隊.xlsx  \\\n",
       "基本資料       一、消防機關基本資料       Unnamed: 1     Unnamed: 2 ...   \n",
       "證照調查                                                  ...   \n",
       "裝備器材調查        項次     車輛名稱         Unnamed: 2    數量  Un...   \n",
       "\n",
       "                                              3.頭屋分隊.xlsx  \n",
       "基本資料       一、消防機關基本資料        Unnamed: 1     Unnamed: 2...  \n",
       "證照調查                                                  ...  \n",
       "裝備器材調查        項次     車輛名稱         Unnamed: 2   數量  Unn...  "
      ]
     },
     "execution_count": 130,
     "metadata": {},
     "output_type": "execute_result"
    }
   ],
   "source": [
    "import os\n",
    "import pandas as pd\n",
    "\n",
    "read_all_sheets = True  # Set to True if you want to read all sheets in each Excel file\n",
    "\n",
    "\n",
    "try:\n",
    "    # This works when the code is executed as a script\n",
    "    path =  os.path.dirname(__file__)#os.getcwd()\n",
    "except NameError:\n",
    "    # This works in Jupyter Notebooks\n",
    "    from pathlib import Path    \n",
    "    path = Path(globals()['_dh'][0])\n",
    "    path = str(path)\n",
    "print('Current working directory:', path)\n",
    "folder_path = path + '/Read_excels/Data' # Adjust the path to your folder containing Excel files\n",
    "files = os.listdir(folder_path)\n",
    "excel_files = [f for f in files if f.endswith(('.xlsx', '.xls','ods'))]\n",
    "dfs = {}\n",
    "for file in excel_files:\n",
    "    file_path = os.path.join(folder_path, file)\n",
    "    df = pd.read_excel(file_path,sheet_name = None if read_all_sheets else 0)  # Read all sheets if specified\n",
    "    # print(type(df['證照調查']))\n",
    "    # dfs[file] = pd.DataFrame(df)\n",
    "    df_keys = [i for i,j in df.items()]\n",
    "    df_values = [j.dropna(axis=0, how='all').fillna(0) for i,j in df.items()]\n",
    "    df_values0 = df_values[0]\n",
    "    df_values1 = df_values[1]\n",
    "    df_values2 = df_values[2]\n",
    "\n",
    "    # display(df_values)\n",
    "\n",
    "\n",
    "\n",
    "    dfs[file] = {i:j for i,j in zip(df_keys, df_values)}\n",
    "\n",
    "\n",
    "    \n",
    "    # print(dfs[file])\n",
    "    # dfs.append(df)\n",
    "pd.DataFrame(dfs) # Print sheet names if reading all sheets\n",
    "# print(type(dfs['1.第一大隊.xlsx']['基本資料']))\n",
    "# display(dfs['1.第一大隊.xlsx']['裝備器材調查'])\n",
    "\n",
    "# file"
   ]
  },
  {
   "cell_type": "code",
   "execution_count": 8,
   "id": "a19c7c37",
   "metadata": {},
   "outputs": [
    {
     "ename": "SyntaxError",
     "evalue": "invalid syntax (1658744744.py, line 8)",
     "output_type": "error",
     "traceback": [
      "  \u001b[36mCell\u001b[39m\u001b[36m \u001b[39m\u001b[32mIn[8]\u001b[39m\u001b[32m, line 8\u001b[39m\n\u001b[31m    \u001b[39m\u001b[31m[i,j for]\u001b[39m\n         ^\n\u001b[31mSyntaxError\u001b[39m\u001b[31m:\u001b[39m invalid syntax\n"
     ]
    }
   ],
   "source": [
    "['基本資料']\n",
    "[ '證照調查']\n",
    "['裝備器材調查']\n",
    "a={'基本資料': ['基本資料'],\n",
    " '證照調查': ['證照調查'],\n",
    " '裝備器材調查': ['裝備器材調查']\n",
    "}\n",
    "[i,j for]"
   ]
  },
  {
   "cell_type": "code",
   "execution_count": 10,
   "id": "5c546297",
   "metadata": {},
   "outputs": [
    {
     "data": {
      "text/plain": [
       "['sdaf', 'sadf', 'asdf']"
      ]
     },
     "execution_count": 10,
     "metadata": {},
     "output_type": "execute_result"
    }
   ],
   "source": [
    "['sdaf','sadf']+['asdf']"
   ]
  },
  {
   "cell_type": "code",
   "execution_count": 1,
   "id": "14c97ebd",
   "metadata": {},
   "outputs": [
    {
     "ename": "KeyError",
     "evalue": "'_dh'",
     "output_type": "error",
     "traceback": [
      "\u001b[31m---------------------------------------------------------------------------\u001b[39m",
      "\u001b[31mAttributeError\u001b[39m                            Traceback (most recent call last)",
      "\u001b[36mFile \u001b[39m\u001b[32m/mnt/c/Users/user/Desktop/Python/Work/Read_Excels/utils/read_data.py:38\u001b[39m, in \u001b[36mread_data.get_path\u001b[39m\u001b[34m(self)\u001b[39m\n\u001b[32m     36\u001b[39m \u001b[38;5;66;03m# This works when the code is executed as a script\u001b[39;00m\n\u001b[32m     37\u001b[39m \u001b[38;5;66;03m# path =  os.path.dirname(__file__)#os.getcwd() #\u001b[39;00m\n\u001b[32m---> \u001b[39m\u001b[32m38\u001b[39m path = os.path.abspath(\u001b[43msys\u001b[49m\u001b[43m.\u001b[49m\u001b[43mmodules\u001b[49m\u001b[43m[\u001b[49m\u001b[33;43m\"\u001b[39;49m\u001b[33;43m__main__\u001b[39;49m\u001b[33;43m\"\u001b[39;49m\u001b[43m]\u001b[49m\u001b[43m.\u001b[49m\u001b[34;43m__file__\u001b[39;49m).replace(\n\u001b[32m     39\u001b[39m     \u001b[33m\"\u001b[39m\u001b[33m/Read_excels_as_one.py\u001b[39m\u001b[33m\"\u001b[39m, \u001b[33m\"\u001b[39m\u001b[33m\"\u001b[39m\n\u001b[32m     40\u001b[39m )\n\u001b[32m     41\u001b[39m \u001b[38;5;28mprint\u001b[39m(\u001b[33m\"\u001b[39m\u001b[33mCurrent working directory:\u001b[39m\u001b[33m\"\u001b[39m, path)\n",
      "\u001b[31mAttributeError\u001b[39m: module '__main__' has no attribute '__file__'",
      "\nDuring handling of the above exception, another exception occurred:\n",
      "\u001b[31mKeyError\u001b[39m                                  Traceback (most recent call last)",
      "\u001b[36mCell\u001b[39m\u001b[36m \u001b[39m\u001b[32mIn[1]\u001b[39m\u001b[32m, line 99\u001b[39m\n\u001b[32m     93\u001b[39m     sorted_data[\u001b[32m0\u001b[39m]\n\u001b[32m     96\u001b[39m \u001b[38;5;28;01mif\u001b[39;00m \u001b[34m__name__\u001b[39m == \u001b[33m\"\u001b[39m\u001b[33m__main__\u001b[39m\u001b[33m\"\u001b[39m:\n\u001b[32m     97\u001b[39m \n\u001b[32m     98\u001b[39m     \u001b[38;5;66;03m# main()\u001b[39;00m\n\u001b[32m---> \u001b[39m\u001b[32m99\u001b[39m     \u001b[43mhigh_tech_industry_main\u001b[49m\u001b[43m(\u001b[49m\u001b[43m)\u001b[49m\n",
      "\u001b[36mCell\u001b[39m\u001b[36m \u001b[39m\u001b[32mIn[1]\u001b[39m\u001b[32m, line 37\u001b[39m, in \u001b[36mhigh_tech_industry_main\u001b[39m\u001b[34m()\u001b[39m\n\u001b[32m     35\u001b[39m \u001b[38;5;28;01mdef\u001b[39;00m\u001b[38;5;250m \u001b[39m\u001b[34mhigh_tech_industry_main\u001b[39m():\n\u001b[32m     36\u001b[39m \u001b[38;5;250m    \u001b[39m\u001b[33;03m\"\"\"Function to handle high-tech industry data processing.\"\"\"\u001b[39;00m\n\u001b[32m---> \u001b[39m\u001b[32m37\u001b[39m     data_reader = \u001b[43mread_data\u001b[49m\u001b[43m.\u001b[49m\u001b[43mread_data\u001b[49m\u001b[43m(\u001b[49m\u001b[43mparameters\u001b[49m\u001b[43m=\u001b[49m\u001b[43mparameters\u001b[49m\u001b[43m)\u001b[49m\n\u001b[32m     38\u001b[39m     folder_path = data_reader.get_path()\n\u001b[32m     39\u001b[39m     data_reader.parameters[\u001b[33m\"\u001b[39m\u001b[33moutput_path\u001b[39m\u001b[33m\"\u001b[39m] = (\n\u001b[32m     40\u001b[39m         folder_path + data_reader.parameters[\u001b[33m\"\u001b[39m\u001b[33mpath_output\u001b[39m\u001b[33m\"\u001b[39m]\n\u001b[32m     41\u001b[39m     )\n",
      "\u001b[36mFile \u001b[39m\u001b[32m/mnt/c/Users/user/Desktop/Python/Work/Read_Excels/utils/read_data.py:20\u001b[39m, in \u001b[36mread_data.__init__\u001b[39m\u001b[34m(self, parameters)\u001b[39m\n\u001b[32m     18\u001b[39m \u001b[38;5;66;03m##.get(\"param\", \"DefaultParam\")\u001b[39;00m\n\u001b[32m     19\u001b[39m \u001b[38;5;28mself\u001b[39m.parameters = parameters\n\u001b[32m---> \u001b[39m\u001b[32m20\u001b[39m \u001b[38;5;28mself\u001b[39m.parameters[\u001b[33m\"\u001b[39m\u001b[33mfolder_path\u001b[39m\u001b[33m\"\u001b[39m] = \u001b[38;5;28;43mself\u001b[39;49m\u001b[43m.\u001b[49m\u001b[43mget_path\u001b[49m\u001b[43m(\u001b[49m\u001b[43m)\u001b[49m\n\u001b[32m     21\u001b[39m \u001b[38;5;28mself\u001b[39m.parameters[\u001b[33m\"\u001b[39m\u001b[33mread_all_sheets\u001b[39m\u001b[33m\"\u001b[39m] = \u001b[38;5;28mself\u001b[39m.parameters.get(\n\u001b[32m     22\u001b[39m     \u001b[33m\"\u001b[39m\u001b[33mread_all_sheets\u001b[39m\u001b[33m\"\u001b[39m, \u001b[38;5;28;01mFalse\u001b[39;00m\n\u001b[32m     23\u001b[39m )\n\u001b[32m     24\u001b[39m \u001b[38;5;28mself\u001b[39m.parameters[\u001b[33m\"\u001b[39m\u001b[33mpattern\u001b[39m\u001b[33m\"\u001b[39m] = \u001b[38;5;28mself\u001b[39m.parameters.get(\u001b[33m\"\u001b[39m\u001b[33mpattern\u001b[39m\u001b[33m\"\u001b[39m, \u001b[33m\"\u001b[39m\u001b[33mdefault\u001b[39m\u001b[33m\"\u001b[39m)\n",
      "\u001b[36mFile \u001b[39m\u001b[32m/mnt/c/Users/user/Desktop/Python/Work/Read_Excels/utils/read_data.py:51\u001b[39m, in \u001b[36mread_data.get_path\u001b[39m\u001b[34m(self)\u001b[39m\n\u001b[32m     47\u001b[39m \u001b[38;5;28;01mexcept\u001b[39;00m \u001b[38;5;167;01mAttributeError\u001b[39;00m:\n\u001b[32m     48\u001b[39m     \u001b[38;5;66;03m# This works in Jupyter Notebooks\u001b[39;00m\n\u001b[32m     49\u001b[39m     \u001b[38;5;28;01mfrom\u001b[39;00m\u001b[38;5;250m \u001b[39m\u001b[34;01mpathlib\u001b[39;00m\u001b[38;5;250m \u001b[39m\u001b[38;5;28;01mimport\u001b[39;00m Path\n\u001b[32m---> \u001b[39m\u001b[32m51\u001b[39m     path = Path(\u001b[38;5;28;43mglobals\u001b[39;49m\u001b[43m(\u001b[49m\u001b[43m)\u001b[49m\u001b[43m[\u001b[49m\u001b[33;43m\"\u001b[39;49m\u001b[33;43m_dh\u001b[39;49m\u001b[33;43m\"\u001b[39;49m\u001b[43m]\u001b[49m[\u001b[32m0\u001b[39m])\n\u001b[32m     52\u001b[39m     path = \u001b[38;5;28mstr\u001b[39m(path)\n\u001b[32m     54\u001b[39m \u001b[38;5;28;01mreturn\u001b[39;00m (\n\u001b[32m     55\u001b[39m     path + \u001b[33m\"\u001b[39m\u001b[33m/Data\u001b[39m\u001b[33m\"\u001b[39m\n\u001b[32m     56\u001b[39m     \u001b[38;5;28;01mif\u001b[39;00m \u001b[33m\"\u001b[39m\u001b[33mpath_data\u001b[39m\u001b[33m\"\u001b[39m \u001b[38;5;129;01mnot\u001b[39;00m \u001b[38;5;129;01min\u001b[39;00m \u001b[38;5;28mself\u001b[39m.parameters\n\u001b[32m     57\u001b[39m     \u001b[38;5;28;01melse\u001b[39;00m path + \u001b[33m\"\u001b[39m\u001b[33m/\u001b[39m\u001b[33m\"\u001b[39m + \u001b[38;5;28mself\u001b[39m.parameters[\u001b[33m\"\u001b[39m\u001b[33mpath_data\u001b[39m\u001b[33m\"\u001b[39m]\n\u001b[32m     58\u001b[39m )\n",
      "\u001b[31mKeyError\u001b[39m: '_dh'"
     ]
    }
   ],
   "source": [
    "import os\n",
    "import pandas as pd\n",
    "import utils.read_data as read_data\n",
    "from utils.output_excel import output_as\n",
    "\n",
    "\n",
    "\n",
    "parameters = {\n",
    "    \"read_all_sheets\": True,  # Set to True if you want to read all sheets in each Excel file\n",
    "    \"sheet_names\": \"公共危險物品運作資料\",  # Specify the sheet name if needed\n",
    "    \"path_data\": \"../Work/Data/科技廠救災能量\",  # Specify the path to your Excel files\n",
    "    # \"path_data\": \"../Test\",  # For testing purposes, you can change this to a test folder\n",
    "    \"pattern\": \"top_ten_operating_chemicals\",  # You can specify a pattern if needed, ['default', '苗栗縣', top_ten_operating_chemicals]\n",
    "    \"path_output\": \"/Output\",  # Specify the output folder\n",
    "    \"output_path\": \"Output\",  # Specify the output path\n",
    "    \"file_name\": \"Aggregated_data.xlsx\",  # Specify the output file name\n",
    "}\n",
    "\n",
    "\n",
    "def main():\n",
    "    # Create an instance of the read_data class\n",
    "    data_reader = read_data.read_data(parameters=parameters)\n",
    "\n",
    "    # Access the combined DataFrame\n",
    "    path = data_reader.get_path()\n",
    "    combined_data = data_reader.read_excel_files()\n",
    "    output_as(combined_data, data_reader.parameters)\n",
    "\n",
    "    # for file, df in combined_data.items():\n",
    "    #     print(f\"Data from {file}:\")\n",
    "    #     print(df.head(5))  # Display the first few rows of each sheet\n",
    "    #     print(df.keys())\n",
    "\n",
    "\n",
    "def high_tech_industry_main():\n",
    "    \"\"\"Function to handle high-tech industry data processing.\"\"\"\n",
    "    data_reader = read_data.read_data(parameters=parameters)\n",
    "    folder_path = data_reader.get_path()\n",
    "    data_reader.parameters[\"output_path\"] = (\n",
    "        folder_path + data_reader.parameters[\"path_output\"]\n",
    "    )\n",
    "    # print(f\"Folder path: {folder_path}\")\n",
    "    folders = os.listdir(folder_path)\n",
    "    if \"Output\" in folders:\n",
    "        folders.remove(\"Output\")  # Remove the Output folder if it exists\n",
    "    # for folder in folders:\n",
    "    #     file_path = os.path.join(folder_path, folder)\n",
    "    #     data_reader.parameters[\"folder_path\"] = file_path\n",
    "    #     print(f\"Processing folder: {folder}\")\n",
    "    #     data_reader.parameters[\"file_name\"] = folder + \".xlsx\"\n",
    "    #     # Read the Excel file\n",
    "    #     if data_reader.parameters[\"pattern\"] == \"default\":\n",
    "    #         print(\"Pattern is default\")\n",
    "    #         combined_data = data_reader.read_excel_files()\n",
    "\n",
    "    #     else:\n",
    "    #         print(f\"Reading with pattern: {data_reader.parameters['pattern']}\")\n",
    "    #         combined_data = data_reader.read_with_pattern(\n",
    "    #             {}, {}, data_reader.parameters[\"pattern\"]\n",
    "    #         )\n",
    "    #     output_as(\n",
    "    #         combined_data, data_reader.parameters\n",
    "    #     )  # Output the combined data to an Excel file\n",
    "    # print(\"All folders processed successfully.\")\n",
    "\n",
    "    #############    sort required data\n",
    "\n",
    "    data_reader.parameters[\"path_data\"] = (\n",
    "        data_reader.parameters[\"path_data\"] + data_reader.parameters[\"path_output\"]\n",
    "    )\n",
    "    data_reader.parameters[\"folder_path\"] = data_reader.get_path()\n",
    "    data_reader.parameters[\"pattern\"] = \"sort_by_location\"\n",
    "    data_reader.parameters[\"file_name\"] = \"Sorted_data.xlsx\"\n",
    "    sorted_data = {\"北部園區\": [], \"中部園區\": [], \"南部園區\": [], \"其他\": []}\n",
    "    sorted_factory = {\"北部園區\": [], \"中部園區\": [], \"南部園區\": [], \"其他\": []}\n",
    "\n",
    "    for f, (r, v) in data_reader.read_excel_files():\n",
    "        print(f\"Processing file: {f}\", r)\n",
    "        sorted_data[r].extend(v)\n",
    "        sorted_factory[r].append(f)\n",
    "        # print(sum(i.shape[0] for i in sorted_data[r]))\n",
    "\n",
    "    print(\"Data sorted by location:\", sorted_data.keys())\n",
    "    print(\"Factory sorted by location:\", sorted_factory)\n",
    "\n",
    "    sorted_data = {\n",
    "        k: pd.concat(v, ignore_index=True) if v else pd.DataFrame()\n",
    "        for k, v in sorted_data.items()\n",
    "    }\n",
    "    output_as(sorted_data, data_reader.parameters)\n",
    "\n",
    "\n",
    "    sorted_data[0]\n",
    "\n",
    "\n",
    "if __name__ == \"__main__\":\n",
    "\n",
    "    # main()\n",
    "    high_tech_industry_main()\n"
   ]
  },
  {
   "cell_type": "code",
   "execution_count": 3,
   "id": "244aeeaf",
   "metadata": {},
   "outputs": [
    {
     "name": "stdout",
     "output_type": "stream",
     "text": [
      "    A   B   C   D\n",
      "0   0   1   2   3\n",
      "1   4   5   6   7\n",
      "2   8   9  10  11\n",
      "3  12  13  14  15\n",
      "    A   B   C   D\n",
      "0   0   1   2   3\n",
      "1   4   5   6   7\n",
      "2   8   9  10  11\n",
      "3  12  13  14  15\n"
     ]
    },
    {
     "data": {
      "text/html": [
       "<div>\n",
       "<style scoped>\n",
       "    .dataframe tbody tr th:only-of-type {\n",
       "        vertical-align: middle;\n",
       "    }\n",
       "\n",
       "    .dataframe tbody tr th {\n",
       "        vertical-align: top;\n",
       "    }\n",
       "\n",
       "    .dataframe thead th {\n",
       "        text-align: right;\n",
       "    }\n",
       "</style>\n",
       "<table border=\"1\" class=\"dataframe\">\n",
       "  <thead>\n",
       "    <tr style=\"text-align: right;\">\n",
       "      <th></th>\n",
       "      <th>A</th>\n",
       "      <th>B</th>\n",
       "    </tr>\n",
       "  </thead>\n",
       "  <tbody>\n",
       "    <tr>\n",
       "      <th>0</th>\n",
       "      <td>0</td>\n",
       "      <td>1</td>\n",
       "    </tr>\n",
       "    <tr>\n",
       "      <th>1</th>\n",
       "      <td>4</td>\n",
       "      <td>5</td>\n",
       "    </tr>\n",
       "    <tr>\n",
       "      <th>2</th>\n",
       "      <td>8</td>\n",
       "      <td>9</td>\n",
       "    </tr>\n",
       "    <tr>\n",
       "      <th>3</th>\n",
       "      <td>12</td>\n",
       "      <td>13</td>\n",
       "    </tr>\n",
       "  </tbody>\n",
       "</table>\n",
       "</div>"
      ],
      "text/plain": [
       "    A   B\n",
       "0   0   1\n",
       "1   4   5\n",
       "2   8   9\n",
       "3  12  13"
      ]
     },
     "execution_count": 3,
     "metadata": {},
     "output_type": "execute_result"
    }
   ],
   "source": [
    "import pandas as pd\n",
    "import numpy as np\n",
    "\n",
    "df = pd.DataFrame(np.arange(16).reshape(4,4), columns=list(\"ABCD\"))\n",
    "\n",
    "print(df)\n",
    "print(pd.concat([df]))\n",
    "df.to_numpy()[[1,2,3],[1]]\n",
    "df.iloc[:,[0,1]]\n"
   ]
  },
  {
   "cell_type": "code",
   "execution_count": 19,
   "id": "3c54ff08",
   "metadata": {},
   "outputs": [
    {
     "data": {
      "text/plain": [
       "Index([1], dtype='int64')"
      ]
     },
     "execution_count": 19,
     "metadata": {},
     "output_type": "execute_result"
    }
   ],
   "source": [
    "df = pd.DataFrame({\n",
    "    \"A\": [\"apple\", \"banana\", \"cherry\"],\n",
    "    \"B\": [\"dog\", \"cat\", \"apple pie\"],\n",
    "})\n",
    "\n",
    "df.index[df.iloc[:,1].str.contains(\"cat\")]"
   ]
  },
  {
   "cell_type": "code",
   "execution_count": 4,
   "id": "c5beef8c",
   "metadata": {},
   "outputs": [],
   "source": [
    "d ={'a':1,'b':2,'c':3}"
   ]
  },
  {
   "cell_type": "code",
   "execution_count": 5,
   "id": "c5fa4f81",
   "metadata": {},
   "outputs": [],
   "source": [
    "b=d\n",
    "b['c'] = 'sadf'"
   ]
  },
  {
   "cell_type": "code",
   "execution_count": 6,
   "id": "9c29dad8",
   "metadata": {},
   "outputs": [
    {
     "data": {
      "text/plain": [
       "{'a': 1, 'b': 2, 'c': 'sadf'}"
      ]
     },
     "execution_count": 6,
     "metadata": {},
     "output_type": "execute_result"
    }
   ],
   "source": [
    "d"
   ]
  },
  {
   "cell_type": "code",
   "execution_count": 9,
   "id": "b5322d81",
   "metadata": {},
   "outputs": [
    {
     "ename": "TypeError",
     "evalue": "unsupported operand type(s) for /: 'str' and 'str'",
     "output_type": "error",
     "traceback": [
      "\u001b[31m---------------------------------------------------------------------------\u001b[39m",
      "\u001b[31mTypeError\u001b[39m                                 Traceback (most recent call last)",
      "\u001b[36mCell\u001b[39m\u001b[36m \u001b[39m\u001b[32mIn[9]\u001b[39m\u001b[32m, line 1\u001b[39m\n\u001b[32m----> \u001b[39m\u001b[32m1\u001b[39m \u001b[43mb\u001b[49m\u001b[43m[\u001b[49m\u001b[33;43m'\u001b[39;49m\u001b[33;43mc\u001b[39;49m\u001b[33;43m'\u001b[39;49m\u001b[43m]\u001b[49m\u001b[43m/\u001b[49m\u001b[33;43m'\u001b[39;49m\u001b[33;43ms\u001b[39;49m\u001b[33;43m'\u001b[39;49m\n",
      "\u001b[31mTypeError\u001b[39m: unsupported operand type(s) for /: 'str' and 'str'"
     ]
    }
   ],
   "source": [
    "b['c']/'s'"
   ]
  },
  {
   "cell_type": "code",
   "execution_count": null,
   "id": "4202e1ff",
   "metadata": {},
   "outputs": [],
   "source": []
  }
 ],
 "metadata": {
  "kernelspec": {
   "display_name": "work",
   "language": "python",
   "name": "python3"
  },
  "language_info": {
   "codemirror_mode": {
    "name": "ipython",
    "version": 3
   },
   "file_extension": ".py",
   "mimetype": "text/x-python",
   "name": "python",
   "nbconvert_exporter": "python",
   "pygments_lexer": "ipython3",
   "version": "3.13.2"
  }
 },
 "nbformat": 4,
 "nbformat_minor": 5
}
